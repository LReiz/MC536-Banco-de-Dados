{
 "cells": [
  {
   "cell_type": "markdown",
   "metadata": {},
   "source": [
    "# National Health and Nutrition Examination Survey (NHANES)\n",
    "[https://wwwn.cdc.gov/nchs/nhanes/](https://wwwn.cdc.gov/nchs/nhanes/)\n",
    "\n",
    "Este laboratório usará dados extraídos do NHANES.\n",
    "\n",
    "## NHANES datasets from 2013-2014\n",
    "\n",
    "Foram extraídos dados do [NHANES 2013-2014](https://wwwn.cdc.gov/nchs/nhanes/continuousnhanes/default.aspx?BeginYear=2013).\n",
    "\n",
    "Os dados estão disponíveis em arquivos CSV no diretório `/data/nhanes`. Lá está disponível a documentação do esquema dos arquivos."
   ]
  },
  {
   "cell_type": "markdown",
   "metadata": {},
   "source": [
    "# Tarefa 1 - Esquema Relacional\n",
    "\n",
    "Analise os arquivos CSV que estão no diretório `/data/nhanes` e escreva um esquema relacional referente às tabelas, suas chaves primárias e estrangeiras (não é SQL ainda). Coloque a chave primária com dois underlines antes e dois depois:\n",
    "\n",
    "\\__teste\\__"
   ]
  },
  {
   "cell_type": "markdown",
   "metadata": {},
   "source": [
    "Pessoa(_Id_, Gender, Age)  \n",
    "Medications_drug(_Code_, Name)  \n",
    "Medications_use(Person_id, Drug_code, Days_use)  \n",
    "&nbsp;&nbsp;&nbsp;&nbsp;&nbsp;&nbsp;CHE: Person_id (Pessoa)  \n",
    "&nbsp;&nbsp;&nbsp;&nbsp;&nbsp;&nbsp;CHE: Drug_code (Medications_drug)  "
   ]
  },
  {
   "cell_type": "markdown",
   "metadata": {},
   "source": [
    "## Criação das Tabelas em SQL e Importação de Dados\n",
    "\n",
    "Considere o seguinte exemplo em que é criada uma tabela em SQL e importado dados do arquivo CSV `demographic-person.csv`."
   ]
  },
  {
   "cell_type": "code",
   "execution_count": 2,
   "metadata": {},
   "outputs": [],
   "source": [
    "%defaultDatasource jdbc:h2:mem:db"
   ]
  },
  {
   "cell_type": "code",
   "execution_count": 3,
   "metadata": {},
   "outputs": [],
   "source": [
    "DROP TABLE IF EXISTS Pessoa;\n",
    "\n",
    "CREATE TABLE Pessoa (\n",
    "  Id VARCHAR(5) NOT NULL,\n",
    "  Gender INTEGER,\n",
    "  Age INTEGER,\n",
    "  PRIMARY KEY(Id)\n",
    ") AS SELECT\n",
    "    id,\n",
    "    gender,\n",
    "    age\n",
    "FROM CSVREAD('../data/nhanes/demographic-person.csv');"
   ]
  },
  {
   "cell_type": "code",
   "execution_count": 4,
   "metadata": {},
   "outputs": [
    {
     "data": {
      "application/vnd.jupyter.widget-view+json": {
       "model_id": "05a5f738-6f60-4878-ae0a-b435e9ae9948",
       "version_major": 2,
       "version_minor": 0
      },
      "method": "display_data"
     },
     "metadata": {},
     "output_type": "display_data"
    }
   ],
   "source": [
    "SELECT * FROM Pessoa;"
   ]
  },
  {
   "cell_type": "markdown",
   "metadata": {},
   "source": [
    "# Tarefa 2 - Criação das Tabelas em SQL e Importação de Dados\n",
    "\n",
    "Escreva instruções SQL para montar as duas tabelas restante, conforme definido no esquema relacional da **Tarefa 1**.\n",
    "\n",
    "**Importante:** não defina chave primária para a tabela de uso de medicamento.\n",
    "\n",
    "Durante a criação das tabelas, realize a importação dos dados do arquivo CSV nas tabelas criadas, conforme exemplo anterior."
   ]
  },
  {
   "cell_type": "code",
   "execution_count": 5,
   "metadata": {},
   "outputs": [],
   "source": [
    "DROP TABLE IF EXISTS Medications_use;\n",
    "DROP TABLE IF EXISTS Medications_drug;\n",
    "\n",
    "CREATE TABLE Medications_drug(\n",
    "    Code VARCHAR(6),\n",
    "    Name VARCHAR(100),\n",
    "    PRIMARY KEY(Code)\n",
    ") AS SELECT\n",
    "    code,\n",
    "    name\n",
    "FROM CSVREAD('../data/nhanes/medications-drug.csv');\n",
    "\n",
    "CREATE TABLE Medications_use(\n",
    "    Person_id VARCHAR(5) NOT NULL,\n",
    "    Drug_code VARCHAR(6) NOT NULL,\n",
    "    Days_use INTEGER,\n",
    "    FOREIGN KEY(Person_id)\n",
    "        REFERENCES Pessoa(Id)\n",
    "            ON DELETE NO ACTION\n",
    "            ON UPDATE NO ACTION,\n",
    "    FOREIGN KEY(Drug_code)\n",
    "        REFERENCES Medications_drug(Code)\n",
    "            ON DELETE NO ACTION\n",
    "            ON UPDATE NO ACTION,\n",
    ") AS SELECT\n",
    "    person_id,\n",
    "    drug_code,\n",
    "    days_use\n",
    "FROM CSVREAD('../data/nhanes/medications-use.csv');"
   ]
  },
  {
   "cell_type": "markdown",
   "metadata": {},
   "source": [
    "# Tarefa 3 - Consultas Simples\n",
    "\n",
    "Execute as consultas a seguir."
   ]
  },
  {
   "cell_type": "markdown",
   "metadata": {},
   "source": [
    "a) Liste pessoas com idade acima de 60"
   ]
  },
  {
   "cell_type": "code",
   "execution_count": 6,
   "metadata": {},
   "outputs": [
    {
     "data": {
      "application/vnd.jupyter.widget-view+json": {
       "model_id": "ef20a4d0-3895-46fc-8d5b-dc3572da4abe",
       "version_major": 2,
       "version_minor": 0
      },
      "method": "display_data"
     },
     "metadata": {},
     "output_type": "display_data"
    }
   ],
   "source": [
    "SELECT * FROM Pessoa P\n",
    "    WHERE P.Age > 60"
   ]
  },
  {
   "cell_type": "markdown",
   "metadata": {},
   "source": [
    "b) Liste as idades das pessoas cadastradas (sem repetições)"
   ]
  },
  {
   "cell_type": "code",
   "execution_count": 7,
   "metadata": {},
   "outputs": [
    {
     "data": {
      "application/vnd.jupyter.widget-view+json": {
       "model_id": "4c3dfd82-ab98-4a69-ade1-bd8bb9c90853",
       "version_major": 2,
       "version_minor": 0
      },
      "method": "display_data"
     },
     "metadata": {},
     "output_type": "display_data"
    }
   ],
   "source": [
    "SELECT DISTINCT P.Age FROM Pessoa P;"
   ]
  },
  {
   "cell_type": "markdown",
   "metadata": {},
   "source": [
    "c) Liste código das pessoas, idade, código dos medicamentos que usaram e dias de uso"
   ]
  },
  {
   "cell_type": "code",
   "execution_count": 8,
   "metadata": {},
   "outputs": [
    {
     "data": {
      "application/vnd.jupyter.widget-view+json": {
       "model_id": "0349794c-de7a-4a3a-8400-9f63e5d361ea",
       "version_major": 2,
       "version_minor": 0
      },
      "method": "display_data"
     },
     "metadata": {},
     "output_type": "display_data"
    }
   ],
   "source": [
    "SELECT P.Id, P.Age, MU.Drug_code, MU.Days_use\n",
    "    FROM Pessoa P, Medications_use MU\n",
    "    WHERE P.Id = MU.Person_id;"
   ]
  },
  {
   "cell_type": "markdown",
   "metadata": {},
   "source": [
    "d) Liste código das Pessoas, idade, nome dos medicamentos que usaram e quantos dias de uso"
   ]
  },
  {
   "cell_type": "code",
   "execution_count": 9,
   "metadata": {},
   "outputs": [
    {
     "data": {
      "application/vnd.jupyter.widget-view+json": {
       "model_id": "7bceedfa-b3b0-4645-88fe-9a5285934110",
       "version_major": 2,
       "version_minor": 0
      },
      "method": "display_data"
     },
     "metadata": {},
     "output_type": "display_data"
    }
   ],
   "source": [
    "SELECT P.Id, P.Age, MD.Name, MU.Days_use\n",
    "    FROM Pessoa P, Medications_use MU, Medications_drug MD\n",
    "    WHERE P.Id = MU.Person_id AND MD.Code = MU.Drug_code;"
   ]
  },
  {
   "cell_type": "markdown",
   "metadata": {},
   "source": [
    "e) Liste nome dos medicamentos que foram usados por pessoas (sem repetições)"
   ]
  },
  {
   "cell_type": "code",
   "execution_count": 13,
   "metadata": {},
   "outputs": [
    {
     "data": {
      "application/vnd.jupyter.widget-view+json": {
       "model_id": "99d3eb70-a652-41b7-9e2a-e6f174993d8d",
       "version_major": 2,
       "version_minor": 0
      },
      "method": "display_data"
     },
     "metadata": {},
     "output_type": "display_data"
    }
   ],
   "source": [
    "SELECT DISTINCT MD.Name\n",
    "    FROM Medications_drug MD, Medications_use MU\n",
    "    WHERE MD.Code = MU.Drug_code\n",
    "        ORDER BY MD.Name;"
   ]
  },
  {
   "cell_type": "markdown",
   "metadata": {},
   "source": [
    "f) Liste nome dos medicamentos usados por mais de 2.000 dias (sem repetições)"
   ]
  },
  {
   "cell_type": "code",
   "execution_count": 14,
   "metadata": {},
   "outputs": [
    {
     "data": {
      "application/vnd.jupyter.widget-view+json": {
       "model_id": "d1a1aa2f-cd02-4df9-adeb-0a904ddcd2f4",
       "version_major": 2,
       "version_minor": 0
      },
      "method": "display_data"
     },
     "metadata": {},
     "output_type": "display_data"
    }
   ],
   "source": [
    "SELECT DISTINCT MD.Name\n",
    "    FROM Medications_drug MD, Medications_use MU\n",
    "    WHERE MD.Code = MU.Drug_code AND MU.Days_use > 2000\n",
    "        ORDER BY MD.Name;"
   ]
  }
 ],
 "metadata": {
  "kernelspec": {
   "display_name": "SQL",
   "language": "SQL",
   "name": "sql"
  },
  "language_info": {
   "codemirror_mode": "sql",
   "file_extension": ".sql",
   "mimetype": "",
   "name": "SQL",
   "nbconverter_exporter": "",
   "version": ""
  },
  "toc": {
   "base_numbering": 1,
   "nav_menu": {},
   "number_sections": false,
   "sideBar": false,
   "skip_h1_title": false,
   "title_cell": "Table of Contents",
   "title_sidebar": "Contents",
   "toc_cell": false,
   "toc_position": {},
   "toc_section_display": false,
   "toc_window_display": false
  }
 },
 "nbformat": 4,
 "nbformat_minor": 4
}
