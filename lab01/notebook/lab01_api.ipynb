{
  "nbformat": 4,
  "nbformat_minor": 0,
  "metadata": {
    "colab": {
      "name": "lab01-api.ipynb",
      "provenance": []
    },
    "kernelspec": {
      "name": "python3",
      "display_name": "Python 3"
    },
    "language_info": {
      "name": "python"
    }
  },
  "cells": [
    {
      "cell_type": "markdown",
      "metadata": {
        "id": "UFUT1CeVP80S"
      },
      "source": [
        "#Lab 1 - API de Acesso a Dados\n",
        "#Tarefa 1\n",
        "Das fontes de dados disponíveis, tente encontrar fontes com formatos diferentes e importá-las via Python. Busque pelo menos dois formatos."
      ]
    },
    {
      "cell_type": "code",
      "metadata": {
        "colab": {
          "base_uri": "https://localhost:8080/"
        },
        "id": "qKjbG8Q7QF9Q",
        "outputId": "f19cbcb9-c620-427f-ebd5-ffbfcebb3f4e"
      },
      "source": [
        "#JSON\n",
        "\n",
        "import requests\n",
        "import json\n",
        "url = \"https://last-airbender-api.herokuapp.com/api/v1/characters?perPage=100&page=1\"\n",
        "characters = requests.get(url).content\n",
        "characters_string = characters.decode('utf-8')\n",
        "characters_json = json.loads(characters_string)\n",
        "for i in range(len(characters_json)):\n",
        "  print(characters_json[i])"
      ],
      "execution_count": 22,
      "outputs": [
        {
          "output_type": "stream",
          "text": [
            "{'_id': '5cf5679a915ecad153ab68d1', 'allies': ['Riley'], 'enemies': [], 'photoUrl': 'https://vignette.wikia.nocookie.net/avatar/images/c/c3/Analay.png/revision/latest?cb=20140430182201', 'name': 'Analay', 'affiliation': 'Unnamed team'}\n",
            "{'_id': '5cf5679a915ecad153ab68d5', 'allies': ['His '], 'enemies': ['Korra '], 'photoUrl': 'https://vignette.wikia.nocookie.net/avatar/images/6/6f/Arik.png/revision/latest?cb=20140808184002', 'name': 'Arik', 'affiliation': 'Earth Kingdom Air Force'}\n",
            "{'_id': '5cf5679a915ecad153ab68e2', 'allies': ['Suyin Beifong'], 'enemies': ['Metal Clan '], 'photoUrl': 'https://vignette.wikia.nocookie.net/avatar/images/4/45/Baatar_Jr..png/revision/latest?cb=20150409193510', 'name': 'Baatar Jr.', 'affiliation': ' Beifong family Military of the Earth Empire (formerly) Metal Clan'}\n",
            "{'_id': '5cf5679a915ecad153ab68e9', 'allies': ['Asami Sato'], 'enemies': ['Amon'], 'photoUrl': 'https://vignette.wikia.nocookie.net/avatar/images/d/d4/Bolin.png/revision/latest?cb=20150406232314', 'name': 'Bolin', 'affiliation': \" Fire Ferrets (formerly) Kuvira's army (deserted) Team Avatar Triple Threat Triad (formerly) Republic City Police\"}\n",
            "{'_id': '5cf5679a915ecad153ab68fd', 'allies': ['Ozai'], 'enemies': ['Earth Kingdom'], 'name': 'Chan (Fire Nation admiral)', 'affiliation': 'Fire Nation Navy'}\n",
            "{'_id': '5cf5679a915ecad153ab6900', 'allies': ['Aang'], 'enemies': ['Azula'], 'photoUrl': 'https://vignette.wikia.nocookie.net/avatar/images/8/81/Chit_Sang.png/revision/latest?cb=20121021000707', 'name': 'Chit Sang'}\n",
            "{'_id': '5cf5679a915ecad153ab68d7', 'allies': ['Hiroshi Sato', 'Korra', ''], 'enemies': ['Amon'], 'photoUrl': 'https://vignette.wikia.nocookie.net/avatar/images/b/b6/Asami_Sato.png/revision/latest?cb=20150407110150', 'name': 'Asami Sato', 'affiliation': ' Future Industries Sato family Team Avatar'}\n",
            "{'_id': '5cf5679a915ecad153ab68f0', 'allies': ['Bumi'], 'enemies': [], 'photoUrl': 'https://vignette.wikia.nocookie.net/avatar/images/b/b6/Bum-Ju.png/revision/latest?cb=20140730103156', 'name': 'Bum-Ju', 'affiliation': 'Spirit World'}\n",
            "{'_id': '5cf5679a915ecad153ab68f5', 'allies': ['Asami Sato'], 'enemies': [], 'photoUrl': 'https://vignette.wikia.nocookie.net/avatar/images/8/82/Butler.png/revision/latest?cb=20121107115044', 'name': 'Butler', 'affiliation': 'Sato family'}\n",
            "{'_id': '5cf5679a915ecad153ab68ed', 'allies': [], 'enemies': ['Zuko'], 'photoUrl': 'https://vignette.wikia.nocookie.net/avatar/images/9/98/Broadsword_man.png/revision/latest?cb=20130630171553', 'name': 'Broadsword man', 'affiliation': 'Earth Kingdom'}\n",
            "{'_id': '5cf5679a915ecad153ab68cf', 'allies': ['Red Lotus'], 'enemies': ['Suyin Beifong'], 'photoUrl': 'https://vignette.wikia.nocookie.net/avatar/images/0/07/Aiwei_reveals_Korra%27s_lie.png/revision/latest?cb=20140808130551', 'name': 'Aiwei', 'affiliation': ' Metal Clan (formerly) Red Lotus (formerly)'}\n",
            "{'_id': '5cf5679a915ecad153ab68d2', 'allies': ['The butcher'], 'enemies': ['Momo'], 'photoUrl': 'https://vignette.wikia.nocookie.net/avatar/images/5/58/Animal_control_officer.png/revision/latest?cb=20140504160655', 'name': 'Animal control officer'}\n",
            "{'_id': '5cf5679a915ecad153ab6904', 'allies': ['Tu'], 'enemies': [], 'photoUrl': 'https://vignette.wikia.nocookie.net/avatar/images/5/51/Chow.png/revision/latest?cb=20140730173827', 'name': 'Chow'}\n",
            "{'_id': '5cf5679a915ecad153ab6906', 'allies': ['Ty Lee'], 'enemies': ['Appa'], 'photoUrl': 'https://vignette.wikia.nocookie.net/avatar/images/a/a5/Circus_master.png/revision/latest?cb=20130706153819', 'name': 'Circus master', 'affiliation': 'Fire Nation circus'}\n",
            "{'_id': '5cf5679a915ecad153ab68ee', 'allies': ['Ozai'], 'enemies': ['Zuko'], 'photoUrl': 'https://vignette.wikia.nocookie.net/avatar/images/7/76/Bujing.png/revision/latest?cb=20130714152817', 'name': 'Bujing', 'affiliation': 'Fire Nation military'}\n",
            "{'_id': '5cf5679a915ecad153ab68f6', 'allies': ['Raiko', ''], 'enemies': ['Varrick'], 'photoUrl': 'https://vignette.wikia.nocookie.net/avatar/images/e/ed/Buttercup_Raiko.png/revision/latest?cb=20150409193510', 'name': 'Buttercup Raiko', 'affiliation': 'United Republic Government'}\n",
            "{'_id': '5cf5679a915ecad153ab68f7', 'allies': ['Cabbage Corp'], 'enemies': ['The '], 'photoUrl': 'https://vignette.wikia.nocookie.net/avatar/images/2/2f/Cabbage_merchant.png/revision/latest?cb=20140112200908', 'name': 'Cabbage merchant', 'affiliation': ' Cabbage Corp Earth Kingdom'}\n",
            "{'_id': '5cf5679a915ecad153ab68f8', 'allies': ['Aunt '], 'enemies': ['Fire Nation'], 'photoUrl': 'https://vignette.wikia.nocookie.net/avatar/images/b/b6/Calm_man.png/revision/latest?cb=20130814093330', 'name': 'Calm man', 'affiliation': 'Earth Kingdom'}\n",
            "{'_id': '5cf5679a915ecad153ab68ff', 'allies': ['His military'], 'enemies': ['Avatar'], 'photoUrl': 'https://vignette.wikia.nocookie.net/avatar/images/6/6f/Chin_the_Great.png/revision/latest?cb=20140215111604', 'name': 'Chin'}\n",
            "{'_id': '5cf5679a915ecad153ab6901', 'allies': ['Sokka'], 'enemies': ['The warden'], 'photoUrl': 'https://vignette.wikia.nocookie.net/avatar/images/6/6e/Chit_Sang%27s_friend.png/revision/latest?cb=20121120131829', 'name': \"Chit Sang's friend\"}\n",
            "{'_id': '5cf5679a915ecad153ab68cb', 'allies': ['Kya'], 'enemies': ['Zuko'], 'photoUrl': 'https://vignette.wikia.nocookie.net/avatar/images/7/79/Pilot_-_Aang.png/revision/latest?cb=20120311133235', 'name': 'Aang (pilot)', 'affiliation': ' Air Nomads Team Avatar'}\n",
            "{'_id': '5cf5679a915ecad153ab68cc', 'allies': ['Fire Nation'], 'enemies': ['Aang'], 'photoUrl': 'https://vignette.wikia.nocookie.net/avatar/images/2/24/Afiko.png/revision/latest?cb=20121121024128', 'name': 'Afiko', 'affiliation': 'Fire Nation'}\n",
            "{'_id': '5cf5679a915ecad153ab68d0', 'allies': ['Tarrlok'], 'enemies': ['Lin Beifong'], 'photoUrl': 'https://vignette.wikia.nocookie.net/avatar/images/0/00/Amon_and_his_Equalists.png/revision/latest?cb=20160219113422', 'name': 'Amon', 'affiliation': ' Equalists (formerly) Northern Water Tribe (formerly)'}\n",
            "{'_id': '5cf5679a915ecad153ab68d3', 'allies': ['His mother'], 'enemies': ['Azula'], 'photoUrl': 'https://vignette.wikia.nocookie.net/avatar/images/6/65/Appa_flying.png/revision/latest?cb=20140517110636', 'name': 'Appa', 'affiliation': ' Air Nomads Team Avatar'}\n",
            "{'_id': '5cf5679a915ecad153ab68d4', 'allies': ['Appa'], 'enemies': ['Fire Nation'], 'photoUrl': 'https://vignette.wikia.nocookie.net/avatar/images/b/be/Appa%27s_mother.png/revision/latest?cb=20130705194428', 'name': \"Appa's mother\", 'affiliation': 'Air Nomads'}\n",
            "{'_id': '5cf5679a915ecad153ab68eb', 'allies': ['Earth King'], 'enemies': ['Azula'], 'photoUrl': 'https://vignette.wikia.nocookie.net/avatar/images/9/9b/Bosco.png/revision/latest?cb=20140517110638', 'name': 'Bosco', 'affiliation': 'Earth Kingdom'}\n",
            "{'_id': '5cf5679a915ecad153ab68fc', 'allies': ['Admiral Chan'], 'enemies': ['Azula', ''], 'photoUrl': 'https://vignette.wikia.nocookie.net/avatar/images/9/9d/Chan.png/revision/latest?cb=20140908141053', 'name': 'Chan', 'affiliation': 'Fire Nation'}\n",
            "{'_id': '5cf5679a915ecad153ab6902', 'allies': ['Sokka'], 'enemies': ['The warden'], 'photoUrl': 'https://vignette.wikia.nocookie.net/avatar/images/6/60/Chit_Sang%27s_girlfriend.png/revision/latest?cb=20121120131842', 'name': \"Chit Sang's girlfriend\"}\n",
            "{'_id': '5cf5679a915ecad153ab6905', 'allies': ['Avatar'], 'enemies': ['Triple Threat Triad'], 'photoUrl': 'https://vignette.wikia.nocookie.net/avatar/images/9/94/Chung.png/revision/latest?cb=20121107115729', 'name': 'Chung'}\n",
            "{'_id': '5cf5679a915ecad153ab68e1', 'allies': ['Suyin Beifong', ''], 'enemies': ['Kuvira'], 'photoUrl': 'https://vignette.wikia.nocookie.net/avatar/images/d/dd/Baatar.png/revision/latest?cb=20150408115101', 'name': 'Baatar', 'affiliation': ' Beifong family Metal Clan'}\n",
            "{'_id': '5cf5679a915ecad153ab68f2', 'allies': ['Aang'], 'enemies': ['Fire Nation'], 'photoUrl': 'https://vignette.wikia.nocookie.net/avatar/images/e/e8/King_Bumi.png/revision/latest?cb=20140106141303', 'name': 'Bumi (King of Omashu)', 'affiliation': ' Earth Kingdom Order of the White Lotus'}\n",
            "{'_id': '5cf5679a915ecad153ab6907', 'allies': ['Circus master'], 'enemies': ['Appa'], 'photoUrl': 'https://vignette.wikia.nocookie.net/avatar/images/b/bd/Circus_trainer.png/revision/latest?cb=20130705125545', 'name': 'Circus trainer', 'affiliation': 'Fire Nation circus'}\n",
            "{'_id': '5cf5679a915ecad153ab68ce', 'allies': ['Aang'], 'enemies': ['Fire Nation'], 'photoUrl': 'https://vignette.wikia.nocookie.net/avatar/images/7/79/Air_Nomad_boy.png/revision/latest?cb=20130714154218', 'name': 'Air Nomad boy', 'affiliation': 'Air Nomads'}\n",
            "{'_id': '5cf5679a915ecad153ab68c9', 'allies': ['Appa'], 'enemies': ['Azula'], 'photoUrl': 'https://vignette.wikia.nocookie.net/avatar/images/a/ae/Aang_at_Jasmine_Dragon.png/revision/latest?cb=20130612174003', 'name': 'Aang', 'affiliation': ' Air Acolytes Air Nomads Air Scouts (formerly) Team Avatar'}\n",
            "{'_id': '5cf5679a915ecad153ab68df', 'allies': ['His '], 'enemies': ['Korra '], 'photoUrl': 'https://vignette.wikia.nocookie.net/avatar/images/0/03/Ba_Sing_Se_airship_co-pilot.png/revision/latest?cb=20140808223854', 'name': 'Ba Sing Se airship co-pilot', 'affiliation': 'Earth Kingdom Air Force'}\n",
            "{'_id': '5cf5679a915ecad153ab68f1', 'allies': ['Aang'], 'enemies': ['Amon'], 'photoUrl': 'https://vignette.wikia.nocookie.net/avatar/images/0/06/Bumi.png/revision/latest?cb=20140318090248', 'name': 'Bumi', 'affiliation': ' Air Nation United Forces (formerly)'}\n",
            "{'_id': '5cf5679a915ecad153ab68d6', 'allies': ['Aang'], 'enemies': ['Zhao'], 'photoUrl': 'https://vignette.wikia.nocookie.net/avatar/images/0/0c/Chief.png/revision/latest?cb=20140122221730', 'name': 'Arnook', 'affiliation': 'Northern Water Tribe'}\n",
            "{'_id': '5cf5679a915ecad153ab68e8', 'allies': ['Toph Beifong'], 'enemies': ['Fire Nation'], 'photoUrl': 'https://vignette.wikia.nocookie.net/avatar/images/d/df/The_Big_Bad_Hippo.png/revision/latest?cb=20140317211139', 'name': 'The Big Bad Hippo', 'affiliation': ' Earth Kingdom Earth Rumble VI (formerly)'}\n",
            "{'_id': '5cf5679a915ecad153ab68f9', 'allies': [], 'enemies': [], 'photoUrl': 'https://vignette.wikia.nocookie.net/avatar/images/2/23/Cam.png/revision/latest?cb=20150421085704', 'name': 'Cam', 'affiliation': 'Republic City Four Elements'}\n",
            "{'_id': '5cf5679a915ecad153ab68da', 'allies': ['Ozai', 'Zuko '], 'enemies': ['Iroh', 'Zuko', 'Kuei', 'Long Feng', 'Mai', 'Ty Lee', 'Ursa '], 'photoUrl': 'https://vignette.wikia.nocookie.net/avatar/images/1/12/Azula.png/revision/latest?cb=20140905084941', 'name': 'Azula', 'affiliation': \" Azula's team (formerly) Dai Li (formerly) Fire Nation Fire Nation Royal Family Fire Warriors Royal Fire Academy for Girls (formerly)\"}\n",
            "{'_id': '5cf5679a915ecad153ab68d8', 'allies': ['Katara'], 'enemies': [], 'photoUrl': 'https://vignette.wikia.nocookie.net/avatar/images/9/9a/Ashuna.png/revision/latest?cb=20161026183558', 'name': 'Ashuna'}\n",
            "{'_id': '5cf5679a915ecad153ab68cd', 'allies': ['Tenzin'], 'enemies': ['Equalists'], 'photoUrl': 'https://vignette.wikia.nocookie.net/avatar/images/c/cd/Air_Acolyte_woman.png/revision/latest?cb=20140421100225', 'name': 'Air Acolyte woman', 'affiliation': ' Air Acolytes Air Temple Island'}\n",
            "{'_id': '5cf5679a915ecad153ab68d9', 'allies': ['Wan'], 'enemies': ['Jaya'], 'photoUrl': 'https://vignette.wikia.nocookie.net/avatar/images/7/76/Aye-aye_spirit.png/revision/latest?cb=20131019224533', 'name': 'Aye-aye spirit', 'affiliation': 'Spirit World'}\n",
            "{'_id': '5cf5679a915ecad153ab68de', 'allies': ['His '], 'enemies': ['Korra '], 'photoUrl': 'https://vignette.wikia.nocookie.net/avatar/images/1/11/Ba_Sing_Se_airship_captain.png/revision/latest?cb=20140808221400', 'name': 'Ba Sing Se airship captain', 'affiliation': 'Earth Kingdom Air Force'}\n",
            "{'_id': '5cf5679a915ecad153ab68e5', 'allies': ['Bolin'], 'enemies': ['Military of the Earth Empire'], 'photoUrl': 'https://vignette.wikia.nocookie.net/avatar/images/8/87/Baraz_and_Ahnah.png/revision/latest?cb=20150407110151', 'name': 'Baraz and Ahnah'}\n",
            "{'_id': '5cf5679a915ecad153ab68e7', 'allies': ['Aang'], 'enemies': ['Fire Nation'], 'photoUrl': 'https://vignette.wikia.nocookie.net/avatar/images/e/e3/Bato_smiling.png/revision/latest?cb=20130626122901', 'name': 'Bato', 'affiliation': 'Southern Water Tribe'}\n",
            "{'_id': '5cf5679a915ecad153ab68db', 'allies': ['Fire Nation'], 'enemies': ['Water Tribes'], 'photoUrl': 'https://vignette.wikia.nocookie.net/avatar/images/a/ad/Azula_%28games%29.png/revision/latest?cb=20131228015042', 'name': 'Azula (games)', 'affiliation': 'Fire Nation'}\n",
            "{'_id': '5cf5679a915ecad153ab68e0', 'allies': ['Zei'], 'enemies': [], 'photoUrl': 'https://vignette.wikia.nocookie.net/avatar/images/2/2c/Ba_Sing_Se_student.png/revision/latest?cb=20140422090140', 'name': 'Ba Sing Se University student', 'affiliation': 'Ba Sing Se University'}\n",
            "{'_id': '5cf5679a915ecad153ab68e6', 'allies': ['Military of the Earth Empire'], 'enemies': ['Wu'], 'photoUrl': 'https://vignette.wikia.nocookie.net/avatar/images/a/ae/Bathroom_attendant.png/revision/latest?cb=20150407110151', 'name': 'Bathroom attendant', 'affiliation': 'Military of the Earth Empire'}\n",
            "{'_id': '5cf5679a915ecad153ab68ec', 'allies': ['Toph'], 'enemies': ['Toph '], 'photoUrl': 'https://vignette.wikia.nocookie.net/avatar/images/7/70/The_Boulder.png/revision/latest?cb=20140317195145', 'name': 'The Boulder', 'affiliation': ' Earth Kingdom Earth Rumble VI (formerly)'}\n",
            "{'_id': '5cf5679a915ecad153ab68f3', 'allies': ['Lian'], 'enemies': ['Aang'], 'photoUrl': 'https://vignette.wikia.nocookie.net/avatar/images/f/f7/Bumi%27s_advisor.png/revision/latest?cb=20121121021000', 'name': \"Bumi's advisor\"}\n",
            "{'_id': '5cf5679a915ecad153ab68f4', 'allies': ['Fire Ferrets'], 'enemies': [], 'photoUrl': 'https://vignette.wikia.nocookie.net/avatar/images/6/6a/Butakha.png/revision/latest?cb=20121107115041', 'name': 'Butakha'}\n",
            "{'_id': '5cf5679a915ecad153ab68fa', 'allies': ['Aang'], 'enemies': ['Canyon crawlers'], 'photoUrl': 'https://vignette.wikia.nocookie.net/avatar/images/d/db/Canyon_guide.png/revision/latest?cb=20131202201055', 'name': 'Canyon guide', 'affiliation': 'Earth Kingdom'}\n",
            "{'_id': '5cf5679a915ecad153ab68fb', 'allies': ['Long Feng'], 'enemies': ['Azula'], 'photoUrl': 'https://vignette.wikia.nocookie.net/avatar/images/8/89/Captured_agent.png/revision/latest?cb=20140517110639', 'name': 'Captured agent', 'affiliation': 'Dai Li'}\n",
            "{'_id': '5cf5679a915ecad153ab68dc', 'allies': ['Azula'], 'enemies': ['Iroh'], 'photoUrl': 'https://vignette.wikia.nocookie.net/avatar/images/b/bc/Azula%27s_ship_captain.png/revision/latest?cb=20130625131841', 'name': \"Azula's ship captain\", 'affiliation': 'Fire Nation Navy'}\n",
            "{'_id': '5cf5679a915ecad153ab68c8', 'allies': ['Royal Earthbender Guards'], 'enemies': ['Chin'], 'photoUrl': 'https://vignette.wikia.nocookie.net/avatar/images/5/51/46th_Earth_King.png/revision/latest?cb=20130627160441', 'name': '46th Earth King', 'affiliation': ' Earth Kingdom Earth Kingdom Royal Family'}\n",
            "{'_id': '5cf5679a915ecad153ab68dd', 'allies': ['Iroh'], 'enemies': ['Ozai', ''], 'photoUrl': 'https://vignette.wikia.nocookie.net/avatar/images/1/1e/Azulon.png/revision/latest?cb=20140331143003', 'name': 'Azulon', 'affiliation': ' Fire Nation Fire Nation Royal Family Military of the Fire Nation'}\n",
            "{'_id': '5cf5679a915ecad153ab68ef', 'allies': ['Azula'], 'enemies': ['Sokka'], 'photoUrl': 'https://vignette.wikia.nocookie.net/avatar/images/0/02/Bully_guard.png/revision/latest?cb=20120702232626', 'name': 'Bully guard', 'affiliation': 'Fire Nation'}\n",
            "{'_id': '5cf5679a915ecad153ab68ca', 'allies': ['Gyatso'], 'enemies': ['Ozai'], 'photoUrl': 'https://vignette.wikia.nocookie.net/avatar/images/2/21/Into_The_Inferno_Aang.png/revision/latest?cb=20131009060746', 'name': 'Aang (games)', 'affiliation': ' Air Nomads Team Avatar'}\n",
            "{'_id': '5cf5679a915ecad153ab6903', 'allies': ['Aang'], 'enemies': [], 'photoUrl': 'https://vignette.wikia.nocookie.net/avatar/images/f/f8/Chong.png/revision/latest?cb=20140127210142', 'name': 'Chong'}\n",
            "{'_id': '5cf5679a915ecad153ab68ea', 'allies': ['Yangchen'], 'enemies': ['General '], 'photoUrl': 'https://vignette.wikia.nocookie.net/avatar/images/3/30/Boma.png/revision/latest?cb=20141228121346', 'name': 'Boma'}\n",
            "{'_id': '5cf5679a915ecad153ab68e3', 'allies': ['Spirit World firefly'], 'enemies': ['Hei Bai'], 'photoUrl': 'https://vignette.wikia.nocookie.net/avatar/images/0/07/Baboon_spirit.png/revision/latest?cb=20140124171522', 'name': 'Baboon spirit', 'affiliation': 'Spirit World'}\n",
            "{'_id': '5cf5679a915ecad153ab68e4', 'allies': ['Azula'], 'enemies': ['Azula'], 'photoUrl': 'https://vignette.wikia.nocookie.net/avatar/images/4/48/Banished_servant.png/revision/latest?cb=20120222022610', 'name': 'Banished servant', 'affiliation': \" Fire Nation Royal Family (formerly) Azula's servants (formerly)\"}\n",
            "{'_id': '5cf5679a915ecad153ab68fe', 'allies': ['Jeong Jeong'], 'enemies': ['Fire Nation'], 'photoUrl': 'https://vignette.wikia.nocookie.net/avatar/images/8/8d/Chey.png/revision/latest?cb=20140116103519', 'name': 'Chey', 'affiliation': ' Fire Nation Army (formerly)'}\n",
            "{'_id': '5cf5679a915ecad153ab6908', 'allies': ['His '], 'enemies': ['Team Avatar'], 'photoUrl': 'https://vignette.wikia.nocookie.net/avatar/images/f/fc/Combustion_Man.png/revision/latest?cb=20140908141111', 'name': 'Combustion Man', 'affiliation': 'Contract employer'}\n",
            "{'_id': '5cf5679a915ecad153ab690b', 'allies': ['Avatar'], 'enemies': ['Tarrlok', ''], 'photoUrl': 'https://vignette.wikia.nocookie.net/avatar/images/b/be/Council_page.png/revision/latest?cb=20140421100228', 'name': 'Council page', 'affiliation': 'United Republic Council'}\n",
            "{'_id': '5cf5679a915ecad153ab692b', 'allies': ['Aang'], 'enemies': ['Combustion Man'], 'photoUrl': 'https://vignette.wikia.nocookie.net/avatar/images/c/ca/Train_engineer.png/revision/latest?cb=20130308171418', 'name': 'Fire Nation train engineer', 'affiliation': ' Fire Nation Fire Nation train'}\n",
            "{'_id': '5cf5679a915ecad153ab6940', 'allies': ['Zaheer'], 'enemies': ['Korra'], 'photoUrl': 'https://vignette.wikia.nocookie.net/avatar/images/3/39/Ghazan.png/revision/latest?cb=20140822132315', 'name': 'Ghazan', 'affiliation': 'Red Lotus'}\n",
            "{'_id': '5cf5679a915ecad153ab6947', 'allies': ['Air Nation'], 'enemies': ['Kuvira'], 'photoUrl': 'https://vignette.wikia.nocookie.net/avatar/images/f/f6/Governor_of_Yi.png/revision/latest?cb=20150409193512', 'name': 'Governor of Yi', 'affiliation': 'Yi'}\n",
            "{'_id': '5cf5679a915ecad153ab6912', 'allies': ['Northern Water Tribe', ''], 'enemies': ['Unalaq', ''], 'photoUrl': 'https://vignette.wikia.nocookie.net/avatar/images/1/1b/Chiefs_Desna_and_Eska.png/revision/latest?cb=20140730174236', 'name': 'Desna and Eska', 'affiliation': 'Northern Water Tribe'}\n",
            "{'_id': '5cf5679a915ecad153ab6922', 'allies': [], 'enemies': [], 'photoUrl': 'https://vignette.wikia.nocookie.net/avatar/images/5/56/Feng.png/revision/latest?cb=20130817144728', 'name': 'Feng'}\n",
            "{'_id': '5cf5679a915ecad153ab693a', 'allies': ['Gan Jin'], 'enemies': ['Zhang '], 'photoUrl': 'https://vignette.wikia.nocookie.net/avatar/images/d/d8/Gan_Jin_leader.png/revision/latest?cb=20131202205816', 'name': 'Gan Jin leader', 'affiliation': ' Gan Jin Zhang'}\n",
            "{'_id': '5cf5679a915ecad153ab6943', 'allies': ['Suki'], 'enemies': [], 'photoUrl': 'https://vignette.wikia.nocookie.net/avatar/images/a/a9/Giya.png/revision/latest?cb=20150217202134', 'name': 'Giya'}\n",
            "{'_id': '5cf5679a915ecad153ab690a', 'allies': ['Earth Kingdom'], 'enemies': [], 'photoUrl': 'https://vignette.wikia.nocookie.net/avatar/images/c/ce/Corncob_guy.png/revision/latest?cb=20140422090141', 'name': 'Corncob guy'}\n",
            "{'_id': '5cf5679a915ecad153ab6921', 'allies': ['Piandao'], 'enemies': [], 'photoUrl': 'https://vignette.wikia.nocookie.net/avatar/images/2/2e/Fat.png/revision/latest?cb=20140905232010', 'name': 'Fat'}\n",
            "{'_id': '5cf5679a915ecad153ab690c', 'allies': ['Dai Li'], 'enemies': ['Bolin'], 'photoUrl': 'https://vignette.wikia.nocookie.net/avatar/images/d/db/Dai_Li_sergeant.png/revision/latest?cb=20140814081916', 'name': 'Dai Li sergeant', 'affiliation': ' Earth Queen Hou-Ting Dai Li'}\n",
            "{'_id': '5cf5679a915ecad153ab6910', 'allies': [], 'enemies': ['Toph'], 'photoUrl': 'https://vignette.wikia.nocookie.net/avatar/images/c/c5/Dealer.png/revision/latest?cb=20130122105706', 'name': 'Dealer'}\n",
            "{'_id': '5cf5679a915ecad153ab6913', 'allies': ['Fire Nation'], 'enemies': ['Hama'], 'photoUrl': 'https://vignette.wikia.nocookie.net/avatar/images/e/ef/Ding.png/revision/latest?cb=20140903132916', 'name': 'Ding'}\n",
            "{'_id': '5cf5679a915ecad153ab691a', 'allies': ['Earth Kingdom'], 'enemies': ['Iroh'], 'photoUrl': 'https://vignette.wikia.nocookie.net/avatar/images/8/80/Earthbender_captain.png/revision/latest?cb=20130620111830', 'name': 'Earthbender captain', 'affiliation': 'Earth Kingdom military'}\n",
            "{'_id': '5cf5679a915ecad153ab6927', 'allies': ['Her husband', ''], 'enemies': ['Amon'], 'photoUrl': 'https://vignette.wikia.nocookie.net/avatar/images/f/f9/Fire_Nation_councilwoman.png/revision/latest?cb=20121110144847', 'name': 'Fire Nation councilwoman', 'affiliation': ' Fire Nation United Republic Council (formerly)'}\n",
            "{'_id': '5cf5679a915ecad153ab6928', 'allies': ['Headhunter'], 'enemies': ['Toph Beifong'], 'photoUrl': 'https://vignette.wikia.nocookie.net/avatar/images/4/46/Fire_Nation_Man.png/revision/latest?cb=20140317210008', 'name': 'Fire Nation Man', 'affiliation': 'Earth Rumble VI'}\n",
            "{'_id': '5cf5679a915ecad153ab6941', 'allies': ['Hakoda'], 'enemies': ['Team Avatar'], 'photoUrl': 'https://vignette.wikia.nocookie.net/avatar/images/c/cd/Gilak.png/revision/latest?cb=20170524065046', 'name': 'Gilak', 'affiliation': 'Southern Water Tribe'}\n",
            "{'_id': '5cf5679a915ecad153ab6942', 'allies': ['Varrick'], 'enemies': [], 'photoUrl': 'https://vignette.wikia.nocookie.net/avatar/images/8/85/Ginger.png/revision/latest?cb=20130914063027', 'name': 'Ginger'}\n",
            "{'_id': '5cf5679a915ecad153ab6917', 'allies': ['Zuko'], 'enemies': ['Red Lotus'], 'photoUrl': 'https://vignette.wikia.nocookie.net/avatar/images/e/ec/Druk.png/revision/latest?cb=20140730151855', 'name': 'Druk', 'affiliation': 'Fire Nation'}\n",
            "{'_id': '5cf5679a915ecad153ab6920', 'allies': ['Earth Kingdom'], 'enemies': ['Appa'], 'photoUrl': 'https://vignette.wikia.nocookie.net/avatar/images/f/f4/Farmer_and_wife.png/revision/latest?cb=20130705201707', 'name': 'Farmer and wife'}\n",
            "{'_id': '5cf5679a915ecad153ab6931', 'allies': [], 'enemies': [], 'photoUrl': 'https://vignette.wikia.nocookie.net/avatar/images/8/84/Fluffykins.png/revision/latest?cb=20140504180349', 'name': 'Fluffykins'}\n",
            "{'_id': '5cf5679a915ecad153ab690d', 'allies': ['Toph Beifong'], 'enemies': ['Kunyo'], 'photoUrl': 'https://vignette.wikia.nocookie.net/avatar/images/4/4e/The_Dark_One.png/revision/latest?cb=20130528065115', 'name': 'The Dark One', 'affiliation': ' Beifong Metalbending Academy Team Beifong Yu Dao'}\n",
            "{'_id': '5cf5679a915ecad153ab691f', 'allies': ['Roku'], 'enemies': ['Sozin'], 'photoUrl': 'https://vignette.wikia.nocookie.net/avatar/images/c/c3/Fang.png/revision/latest?cb=20121217082142', 'name': 'Fang', 'affiliation': 'Spirit World'}\n",
            "{'_id': '5cf5679a915ecad153ab6926', 'allies': ['Sokka'], 'enemies': ['Earth Kingdom'], 'photoUrl': 'https://vignette.wikia.nocookie.net/avatar/images/8/82/Fire_Nation_company_leader.png/revision/latest?cb=20121230121700', 'name': 'Fire Nation company leader', 'affiliation': 'Fire Nation Army'}\n",
            "{'_id': '5cf5679a915ecad153ab6930', 'allies': ['Bumi'], 'enemies': ['Fire Nation'], 'photoUrl': 'https://vignette.wikia.nocookie.net/avatar/images/4/4c/Goat_gorilla.png/revision/latest?cb=20130706150318', 'name': 'Flopsie'}\n",
            "{'_id': '5cf5679a915ecad153ab6937', 'allies': ['Spirits'], 'enemies': ['Wan '], 'photoUrl': 'https://vignette.wikia.nocookie.net/avatar/images/7/72/Frog_spirit.png/revision/latest?cb=20131216140457', 'name': 'Frog spirit', 'affiliation': 'Spirit World'}\n",
            "{'_id': '5cf5679a915ecad153ab6916', 'allies': ['Spirits'], 'enemies': [], 'photoUrl': 'https://vignette.wikia.nocookie.net/avatar/images/6/66/Dragon_eel_spirit.png/revision/latest?cb=20150726120548', 'name': 'Dragon eel spirit', 'affiliation': 'Spirit World'}\n",
            "{'_id': '5cf5679a915ecad153ab691b', 'allies': ['Yu'], 'enemies': ['Katara'], 'photoUrl': 'https://vignette.wikia.nocookie.net/avatar/images/1/11/Earthbending_academy_teenagers.png/revision/latest?cb=20140317210008', 'name': 'Earthbending academy teenagers', 'affiliation': \" Earth Kingdom Master Yu's Earthbending Academy\"}\n",
            "{'_id': '5cf5679a915ecad153ab6924', 'allies': ['His friend'], 'enemies': ['Katara'], 'photoUrl': 'https://vignette.wikia.nocookie.net/avatar/images/d/d4/Fire_Nation_bar_patron.png/revision/latest?cb=20130308170517', 'name': 'Fire Nation bar patron', 'affiliation': 'Fire Nation'}\n",
            "{'_id': '5cf5679a915ecad153ab692c', 'allies': ['Admiral'], 'enemies': ['Aang'], 'photoUrl': 'https://vignette.wikia.nocookie.net/avatar/images/8/8a/Fire_Navy_officer.png/revision/latest?cb=20140519094412', 'name': 'Fire Navy officer', 'affiliation': 'Fire Nation Navy'}\n",
            "{'_id': '5cf5679a915ecad153ab6932', 'allies': ['Master '], 'enemies': ['Fire Nation'], 'photoUrl': 'https://vignette.wikia.nocookie.net/avatar/images/7/74/Flyer_distribution_man.png/revision/latest?cb=20140317210009', 'name': 'Flyer distribution man', 'affiliation': \"Master Yu's Earthbending Academy\"}\n",
            "{'_id': '5cf5679a915ecad153ab693d', 'allies': ['Sela', ''], 'enemies': ['Fire Nation'], 'photoUrl': 'https://vignette.wikia.nocookie.net/avatar/images/b/b9/Gansu.png/revision/latest?cb=20140331143004', 'name': 'Gansu', 'affiliation': 'Lee Family Pig Farm'}\n",
            "{'_id': '5cf5679a915ecad153ab690e', 'allies': [], 'enemies': ['Tenzin'], 'photoUrl': 'https://vignette.wikia.nocookie.net/avatar/images/9/9a/Dark_spider_spirit.png/revision/latest?cb=20141109112441', 'name': 'Dark spider spirit', 'affiliation': 'Spirit World'}\n",
            "{'_id': '5cf5679a915ecad153ab6914', 'allies': ['Aang'], 'enemies': ['General '], 'photoUrl': 'https://vignette.wikia.nocookie.net/avatar/images/d/de/Xu.png/revision/latest?cb=20140613143539', 'name': 'Dock/Xu/Bushi', 'affiliation': 'Jang Hui'}\n",
            "{'_id': '5cf5679a915ecad153ab6915', 'allies': ['Amon'], 'enemies': ['Bolin'], 'photoUrl': 'https://vignette.wikia.nocookie.net/avatar/images/b/b7/Doorman.png/revision/latest?cb=20121107121352', 'name': 'Doorman', 'affiliation': 'Equalists '}\n"
          ],
          "name": "stdout"
        }
      ]
    },
    {
      "cell_type": "code",
      "metadata": {
        "colab": {
          "base_uri": "https://localhost:8080/"
        },
        "id": "kKsePchQQO5T",
        "outputId": "1b210dff-6676-422d-ee4b-85847d13af62"
      },
      "source": [
        "#CSV\n",
        "import pandas as pd\n",
        "import io\n",
        "\n",
        "url = \"https://query.data.world/s/i4fds7loe3ady5r4uaiamgvedzjpyy\"\n",
        "content = requests.get(url).content\n",
        "content_string = content.decode('utf-8')\n",
        "dataframe = pd.read_csv(io.StringIO(content_string), sep=\";\")\n",
        "print(dataframe)"
      ],
      "execution_count": 39,
      "outputs": [
        {
          "output_type": "stream",
          "text": [
            "                       district                   school  ... schoolscore  grade\n",
            "0           Ashe County Schools    Blue Ridge Elementary  ...          59      C\n",
            "1          Surry County Schools      J Sam Gentry Middle  ...          63      C\n",
            "2            Lee County Schools        Lee Early College  ...          75      B\n",
            "3           Wake County Schools       Douglas Elementary  ...          64      C\n",
            "4       Guilford County Schools          Guilford Middle  ...          55      C\n",
            "...                         ...                      ...  ...         ...    ...\n",
            "2419        Wake County Schools      Wake NCSU STEM ECHS  ...          89      A\n",
            "2420      Wilson County Schools    B O Barnes Elementary  ...          42      D\n",
            "2421        Wake County Schools  Turner Creek Elementary  ...          81      B\n",
            "2422  Washington County Schools            Plymouth High  ...          57      C\n",
            "2423        Wake County Schools        Stough Elementary  ...          60      C\n",
            "\n",
            "[2424 rows x 8 columns]\n"
          ],
          "name": "stdout"
        }
      ]
    },
    {
      "cell_type": "markdown",
      "metadata": {
        "id": "crfuMpauQGkC"
      },
      "source": [
        "#Tarefa 2\n",
        "##Engenharia reversa\n",
        "Monte um diagramas que representem modelos dos dados que você terá acesso e como pretende associá-los. Coloque abaixo uma imagem do diagrama."
      ]
    },
    {
      "cell_type": "code",
      "metadata": {
        "id": "LEF6g1M1QM65"
      },
      "source": [
        ""
      ],
      "execution_count": null,
      "outputs": []
    }
  ]
}